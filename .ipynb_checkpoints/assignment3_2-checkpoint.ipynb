{
 "cells": [
  {
   "cell_type": "code",
   "execution_count": 1,
   "id": "0011be41-8347-4a7e-80d9-f35c15eb35b3",
   "metadata": {},
   "outputs": [],
   "source": [
    "# Perform K-Means Clustering for the crime_std data and identify the number of clusters formed and draw inferences.\n",
    "\n",
    "# Data Description:\n",
    "# Murder -- Muder rates in different places of United States\n",
    "# Assualt- Assualt rate in different places of United States\n",
    "# UrbanPop - urban population in different places of United States\n",
    "# Rape - Rape rate in different places of United States\n"
   ]
  },
  {
   "cell_type": "code",
   "execution_count": 2,
   "id": "1ebfeff9-e587-42fb-979f-68133bd72202",
   "metadata": {},
   "outputs": [],
   "source": [
    "import pandas as pd \n",
    "import numpy as np\n",
    "import matplotlib.pyplot as plt\n",
    "from sklearn.cluster import KMeans\n"
   ]
  },
  {
   "cell_type": "code",
   "execution_count": 7,
   "id": "473c1d53-fab8-4882-b20e-e4cd8fd2a19d",
   "metadata": {},
   "outputs": [
    {
     "name": "stdout",
     "output_type": "stream",
     "text": [
      "    Unnamed: 0    Murder   Assault  UrbanPop      Rape\n",
      "0            0  0.746988  0.654110  0.440678  0.359173\n",
      "1            1  0.554217  0.746575  0.271186  0.961240\n",
      "2            2  0.439759  0.852740  0.813559  0.612403\n",
      "3            3  0.481928  0.496575  0.305085  0.315245\n",
      "4            4  0.493976  0.791096  1.000000  0.860465\n",
      "5            5  0.427711  0.544521  0.779661  0.811370\n",
      "6            6  0.150602  0.222603  0.762712  0.098191\n",
      "7            7  0.307229  0.660959  0.677966  0.219638\n",
      "8            8  0.879518  0.993151  0.813559  0.635659\n",
      "9            9  1.000000  0.568493  0.474576  0.478036\n",
      "10          10  0.271084  0.003425  0.864407  0.333333\n",
      "11          11  0.108434  0.256849  0.372881  0.178295\n",
      "12          12  0.578313  0.698630  0.864407  0.431525\n",
      "13          13  0.385542  0.232877  0.559322  0.354005\n",
      "14          14  0.084337  0.037671  0.423729  0.103359\n",
      "15          15  0.313253  0.239726  0.576271  0.276486\n",
      "16          16  0.536145  0.219178  0.338983  0.232558\n",
      "17          17  0.879518  0.698630  0.576271  0.385013\n",
      "18          18  0.078313  0.130137  0.322034  0.012920\n",
      "19          19  0.632530  0.873288  0.593220  0.529716\n",
      "20          20  0.216867  0.356164  0.898305  0.232558\n",
      "21          21  0.680723  0.719178  0.711864  0.718346\n",
      "22          22  0.114458  0.092466  0.576271  0.196382\n",
      "23          23  0.921687  0.732877  0.203390  0.253230\n",
      "24          24  0.493976  0.455479  0.644068  0.540052\n",
      "25          25  0.313253  0.219178  0.355932  0.235142\n",
      "26          26  0.210843  0.195205  0.508475  0.237726\n",
      "27          27  0.686747  0.708904  0.830508  1.000000\n",
      "28          28  0.078313  0.041096  0.406780  0.056848\n",
      "29          29  0.397590  0.390411  0.966102  0.297158\n",
      "30          30  0.638554  0.821918  0.644068  0.640827\n",
      "31          31  0.620482  0.715753  0.915254  0.485788\n",
      "32          32  0.734940  1.000000  0.220339  0.227390\n",
      "33          33  0.000000  0.000000  0.203390  0.000000\n",
      "34          34  0.391566  0.256849  0.728814  0.364341\n",
      "35          35  0.349398  0.363014  0.610169  0.328165\n",
      "36          36  0.246988  0.390411  0.593220  0.568475\n",
      "37          37  0.331325  0.208904  0.677966  0.196382\n",
      "38          38  0.156627  0.441781  0.932203  0.025840\n",
      "39          39  0.819277  0.801370  0.271186  0.392765\n",
      "40          40  0.180723  0.140411  0.220339  0.142119\n",
      "41          41  0.746988  0.489726  0.457627  0.506460\n",
      "42          42  0.716867  0.534247  0.813559  0.470284\n",
      "43          43  0.144578  0.256849  0.813559  0.403101\n",
      "44          44  0.084337  0.010274  0.000000  0.100775\n",
      "45          45  0.463855  0.380137  0.525424  0.346253\n",
      "46          46  0.192771  0.342466  0.694915  0.488372\n",
      "47          47  0.295181  0.123288  0.118644  0.051680\n",
      "48          48  0.108434  0.027397  0.576271  0.090439\n",
      "49          49  0.361446  0.397260  0.474576  0.214470\n",
      "      Murder   Assault  UrbanPop      Rape\n",
      "0   0.746988  0.654110  0.440678  0.359173\n",
      "1   0.554217  0.746575  0.271186  0.961240\n",
      "2   0.439759  0.852740  0.813559  0.612403\n",
      "3   0.481928  0.496575  0.305085  0.315245\n",
      "4   0.493976  0.791096  1.000000  0.860465\n",
      "5   0.427711  0.544521  0.779661  0.811370\n",
      "6   0.150602  0.222603  0.762712  0.098191\n",
      "7   0.307229  0.660959  0.677966  0.219638\n",
      "8   0.879518  0.993151  0.813559  0.635659\n",
      "9   1.000000  0.568493  0.474576  0.478036\n",
      "10  0.271084  0.003425  0.864407  0.333333\n",
      "11  0.108434  0.256849  0.372881  0.178295\n",
      "12  0.578313  0.698630  0.864407  0.431525\n",
      "13  0.385542  0.232877  0.559322  0.354005\n",
      "14  0.084337  0.037671  0.423729  0.103359\n",
      "15  0.313253  0.239726  0.576271  0.276486\n",
      "16  0.536145  0.219178  0.338983  0.232558\n",
      "17  0.879518  0.698630  0.576271  0.385013\n",
      "18  0.078313  0.130137  0.322034  0.012920\n",
      "19  0.632530  0.873288  0.593220  0.529716\n",
      "20  0.216867  0.356164  0.898305  0.232558\n",
      "21  0.680723  0.719178  0.711864  0.718346\n",
      "22  0.114458  0.092466  0.576271  0.196382\n",
      "23  0.921687  0.732877  0.203390  0.253230\n",
      "24  0.493976  0.455479  0.644068  0.540052\n",
      "25  0.313253  0.219178  0.355932  0.235142\n",
      "26  0.210843  0.195205  0.508475  0.237726\n",
      "27  0.686747  0.708904  0.830508  1.000000\n",
      "28  0.078313  0.041096  0.406780  0.056848\n",
      "29  0.397590  0.390411  0.966102  0.297158\n",
      "30  0.638554  0.821918  0.644068  0.640827\n",
      "31  0.620482  0.715753  0.915254  0.485788\n",
      "32  0.734940  1.000000  0.220339  0.227390\n",
      "33  0.000000  0.000000  0.203390  0.000000\n",
      "34  0.391566  0.256849  0.728814  0.364341\n",
      "35  0.349398  0.363014  0.610169  0.328165\n",
      "36  0.246988  0.390411  0.593220  0.568475\n",
      "37  0.331325  0.208904  0.677966  0.196382\n",
      "38  0.156627  0.441781  0.932203  0.025840\n",
      "39  0.819277  0.801370  0.271186  0.392765\n",
      "40  0.180723  0.140411  0.220339  0.142119\n",
      "41  0.746988  0.489726  0.457627  0.506460\n",
      "42  0.716867  0.534247  0.813559  0.470284\n",
      "43  0.144578  0.256849  0.813559  0.403101\n",
      "44  0.084337  0.010274  0.000000  0.100775\n",
      "45  0.463855  0.380137  0.525424  0.346253\n",
      "46  0.192771  0.342466  0.694915  0.488372\n",
      "47  0.295181  0.123288  0.118644  0.051680\n",
      "48  0.108434  0.027397  0.576271  0.090439\n",
      "49  0.361446  0.397260  0.474576  0.214470\n"
     ]
    }
   ],
   "source": [
    "df=pd.read_csv(\"crime_std.csv\")\n",
    "print(df)\n",
    "df.drop(\"Unnamed: 0\",axis=1,inplace=True)\n",
    "print(df)"
   ]
  },
  {
   "cell_type": "code",
   "execution_count": 12,
   "id": "9deb2b97-4953-4f3d-8976-e553b8e54cee",
   "metadata": {},
   "outputs": [
    {
     "name": "stdout",
     "output_type": "stream",
     "text": [
      "[13.184122550256447, 6.596893867946197, 5.010878493006418, 3.6908204103921123, 3.1842618139677232, 2.852039888521112, 2.6430560899654436, 2.3254169403757694, 2.195126043117785, 1.9345965270681478]\n",
      "[0 4 2 3 7 7 1 2 4 0 1 6 2 3 6 1 3 0 6 4 9 4 1 8 5 3 1 7 6 9 4 2 8 6 5 5 5\n",
      " 1 9 8 6 0 2 5 6 3 5 6 1 3]\n",
      "[[0.84337349 0.60273973 0.48728814 0.43217054]\n",
      " [0.21428571 0.14138943 0.64891041 0.20413437]\n",
      " [0.53253012 0.69246575 0.81694915 0.44392765]\n",
      " [0.42369478 0.32420091 0.42655367 0.28294574]\n",
      " [0.67710843 0.83082192 0.60677966 0.69715762]\n",
      " [0.30321285 0.34417808 0.68079096 0.44875108]\n",
      " [0.11370482 0.09246575 0.25847458 0.08074935]\n",
      " [0.53614458 0.68150685 0.8700565  0.89061154]\n",
      " [0.8253012  0.84474886 0.23163842 0.29112834]\n",
      " [0.25702811 0.39611872 0.93220339 0.18518519]]\n"
     ]
    },
    {
     "name": "stderr",
     "output_type": "stream",
     "text": [
      "/home/sunbeam/.local/lib/python3.10/site-packages/sklearn/cluster/_kmeans.py:1416: FutureWarning: The default value of `n_init` will change from 10 to 'auto' in 1.4. Set the value of `n_init` explicitly to suppress the warning\n",
      "  super()._check_params_vs_input(X, default_n_init=10)\n",
      "/home/sunbeam/.local/lib/python3.10/site-packages/sklearn/cluster/_kmeans.py:1416: FutureWarning: The default value of `n_init` will change from 10 to 'auto' in 1.4. Set the value of `n_init` explicitly to suppress the warning\n",
      "  super()._check_params_vs_input(X, default_n_init=10)\n",
      "/home/sunbeam/.local/lib/python3.10/site-packages/sklearn/cluster/_kmeans.py:1416: FutureWarning: The default value of `n_init` will change from 10 to 'auto' in 1.4. Set the value of `n_init` explicitly to suppress the warning\n",
      "  super()._check_params_vs_input(X, default_n_init=10)\n",
      "/home/sunbeam/.local/lib/python3.10/site-packages/sklearn/cluster/_kmeans.py:1416: FutureWarning: The default value of `n_init` will change from 10 to 'auto' in 1.4. Set the value of `n_init` explicitly to suppress the warning\n",
      "  super()._check_params_vs_input(X, default_n_init=10)\n",
      "/home/sunbeam/.local/lib/python3.10/site-packages/sklearn/cluster/_kmeans.py:1416: FutureWarning: The default value of `n_init` will change from 10 to 'auto' in 1.4. Set the value of `n_init` explicitly to suppress the warning\n",
      "  super()._check_params_vs_input(X, default_n_init=10)\n",
      "/home/sunbeam/.local/lib/python3.10/site-packages/sklearn/cluster/_kmeans.py:1416: FutureWarning: The default value of `n_init` will change from 10 to 'auto' in 1.4. Set the value of `n_init` explicitly to suppress the warning\n",
      "  super()._check_params_vs_input(X, default_n_init=10)\n",
      "/home/sunbeam/.local/lib/python3.10/site-packages/sklearn/cluster/_kmeans.py:1416: FutureWarning: The default value of `n_init` will change from 10 to 'auto' in 1.4. Set the value of `n_init` explicitly to suppress the warning\n",
      "  super()._check_params_vs_input(X, default_n_init=10)\n",
      "/home/sunbeam/.local/lib/python3.10/site-packages/sklearn/cluster/_kmeans.py:1416: FutureWarning: The default value of `n_init` will change from 10 to 'auto' in 1.4. Set the value of `n_init` explicitly to suppress the warning\n",
      "  super()._check_params_vs_input(X, default_n_init=10)\n",
      "/home/sunbeam/.local/lib/python3.10/site-packages/sklearn/cluster/_kmeans.py:1416: FutureWarning: The default value of `n_init` will change from 10 to 'auto' in 1.4. Set the value of `n_init` explicitly to suppress the warning\n",
      "  super()._check_params_vs_input(X, default_n_init=10)\n",
      "/home/sunbeam/.local/lib/python3.10/site-packages/sklearn/cluster/_kmeans.py:1416: FutureWarning: The default value of `n_init` will change from 10 to 'auto' in 1.4. Set the value of `n_init` explicitly to suppress the warning\n",
      "  super()._check_params_vs_input(X, default_n_init=10)\n"
     ]
    },
    {
     "data": {
      "text/plain": [
       "[<matplotlib.lines.Line2D at 0x7fe2066ec2b0>]"
      ]
     },
     "execution_count": 12,
     "metadata": {},
     "output_type": "execute_result"
    },
    {
     "data": {
      "image/png": "[encoded data removed]",
      "text/plain": [
       "<Figure size 640x480 with 1 Axes>"
      ]
     },
     "metadata": {},
     "output_type": "display_data"
    }
   ],
   "source": [
    "wss=[]\n",
    "for k in range(1,11):\n",
    "    kmeans_model=KMeans(n_clusters=k,random_state=12345)\n",
    "    kmeans_model.fit(df)\n",
    "    wss.append(kmeans_model.inertia_)\n",
    "print(wss)\n",
    "print(kmeans_model.labels_)\n",
    "\n",
    "print(kmeans_model.cluster_centers_)\n",
    "x=np.arange(1,11)\n",
    "plt.plot(x,wss)\n"
   ]
  },
  {
   "cell_type": "code",
   "execution_count": 13,
   "id": "c1ec2f20-f96e-40ad-8c34-1ddc22e3c520",
   "metadata": {},
   "outputs": [
    {
     "name": "stdout",
     "output_type": "stream",
     "text": [
      "[3 1 1 3 1 1 2 2 1 3 2 0 1 2 0 2 0 3 0 1 2 1 0 3 1 0 0 1 0 2 1 1 3 0 2 2 2\n",
      " 2 2 3 0 3 1 2 0 2 2 0 0 2]\n",
      "[[0.1686747  0.11485774 0.34028683 0.12601868]\n",
      " [0.60333642 0.72734457 0.74576271 0.66905188]\n",
      " [0.29254518 0.32148973 0.70974576 0.29667313]\n",
      " [0.79141566 0.6802226  0.36864407 0.36466408]]\n"
     ]
    },
    {
     "name": "stderr",
     "output_type": "stream",
     "text": [
      "/home/sunbeam/.local/lib/python3.10/site-packages/sklearn/cluster/_kmeans.py:1416: FutureWarning: The default value of `n_init` will change from 10 to 'auto' in 1.4. Set the value of `n_init` explicitly to suppress the warning\n",
      "  super()._check_params_vs_input(X, default_n_init=10)\n"
     ]
    }
   ],
   "source": [
    "kmeans=KMeans(n_clusters=4,random_state=12345)\n",
    "kmeans.fit(df)\n",
    "print(kmeans.labels_)\n",
    "print(kmeans.cluster_centers_)"
   ]
  },
  {
   "cell_type": "code",
   "execution_count": null,
   "id": "7ace2653-2170-4db3-a462-1f150635b74f",
   "metadata": {},
   "outputs": [],
   "source": []
  }
 ],
 "metadata": {
  "kernelspec": {
   "display_name": "Python 3 (ipykernel)",
   "language": "python",
   "name": "python3"
  },
  "language_info": {
   "codemirror_mode": {
    "name": "ipython",
    "version": 3
   },
   "file_extension": ".py",
   "mimetype": "text/x-python",
   "name": "python",
   "nbconvert_exporter": "python",
   "pygments_lexer": "ipython3",
   "version": "3.10.12"
  }
 },
 "nbformat": 4,
 "nbformat_minor": 5
}
