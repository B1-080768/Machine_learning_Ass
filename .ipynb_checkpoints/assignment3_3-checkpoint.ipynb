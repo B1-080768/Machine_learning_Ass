{
 "cells": [
  {
   "cell_type": "code",
   "execution_count": 1,
   "id": "e5b2db2f-2de7-4ab1-84c5-88e1aa717e70",
   "metadata": {},
   "outputs": [],
   "source": [
    "# Perform K-Means Clustering for the Universities_std data and identify the number of clusters formed and draw inferences."
   ]
  },
  {
   "cell_type": "code",
   "execution_count": 3,
   "id": "f7e34494-5923-4582-969c-935b4dfe44b4",
   "metadata": {},
   "outputs": [],
   "source": [
    "import pandas as pd \n",
    "import numpy as np\n",
    "import matplotlib.pyplot as plt\n",
    "from sklearn.cluster import KMeans\n"
   ]
  },
  {
   "cell_type": "code",
   "execution_count": 4,
   "id": "7d8ff873-be0c-4db5-afc1-5fcb54279d1c",
   "metadata": {},
   "outputs": [
    {
     "name": "stdout",
     "output_type": "stream",
     "text": [
      "    Unnamed: 0       SAT     Top10    Accept   SFRatio  Expenses  GradRate\n",
      "0            0  0.743902  0.847222  0.105263  0.368421  0.255144  0.900000\n",
      "1            1  1.000000  1.000000  0.144737  0.000000  1.000000  0.466667\n",
      "2            2  0.621951  0.472222  0.592105  0.157895  0.297461  0.166667\n",
      "3            3  0.743902  0.666667  0.131579  0.315789  0.415629  0.700000\n",
      "4            4  0.670732  0.763889  0.250000  0.368421  0.239835  0.766667\n",
      "5            5  0.817073  0.847222  0.118421  0.210526  0.427512  0.933333\n",
      "6            6  0.756098  0.861111  0.210526  0.315789  0.416996  0.933333\n",
      "7            7  0.609756  0.638889  0.131579  0.315789  0.208161  0.833333\n",
      "8            8  0.963415  0.875000  0.000000  0.263158  0.561699  1.000000\n",
      "9            9  0.731707  0.652778  0.394737  0.052632  0.910991  0.666667\n",
      "10          10  0.914634  0.916667  0.210526  0.210526  0.476864  0.800000\n",
      "11          11  0.621951  0.791667  0.328947  0.263158  0.352609  0.733333\n",
      "12          12  0.609756  0.736111  0.368421  0.368421  0.116965  0.900000\n",
      "13          13  0.185366  0.138889  0.526316  0.631579  0.026991  0.433333\n",
      "14          14  0.902439  0.875000  0.000000  0.105263  0.392120  0.933333\n",
      "15          15  0.000000  0.000000  1.000000  0.684211  0.006597  0.066667\n",
      "16          16  0.865854  0.861111  0.078947  0.315789  0.505659  0.866667\n",
      "17          17  0.170732  0.291667  0.697368  1.000000  0.000000  0.000000\n",
      "18          18  0.573171  0.930556  0.342105  0.578947  0.117293  0.366667\n",
      "19          19  0.695122  0.652778  0.473684  0.368421  0.540832  0.666667\n",
      "20          20  0.426829  0.513889  0.710526  0.526316  0.123307  0.600000\n",
      "21          21  0.682927  0.722222  0.289474  0.263158  0.343515  0.766667\n",
      "22          22  0.536585  0.680556  0.394737  0.421053  0.084653  0.833333\n",
      "23          23  0.195122  0.166667  0.723684  0.473684  0.057462  0.133333\n",
      "24          24  0.902439  0.930556  0.065789  0.263158  0.634397  0.966667\n",
      "         SAT     Top10    Accept   SFRatio  Expenses  GradRate\n",
      "0   0.743902  0.847222  0.105263  0.368421  0.255144  0.900000\n",
      "1   1.000000  1.000000  0.144737  0.000000  1.000000  0.466667\n",
      "2   0.621951  0.472222  0.592105  0.157895  0.297461  0.166667\n",
      "3   0.743902  0.666667  0.131579  0.315789  0.415629  0.700000\n",
      "4   0.670732  0.763889  0.250000  0.368421  0.239835  0.766667\n",
      "5   0.817073  0.847222  0.118421  0.210526  0.427512  0.933333\n",
      "6   0.756098  0.861111  0.210526  0.315789  0.416996  0.933333\n",
      "7   0.609756  0.638889  0.131579  0.315789  0.208161  0.833333\n",
      "8   0.963415  0.875000  0.000000  0.263158  0.561699  1.000000\n",
      "9   0.731707  0.652778  0.394737  0.052632  0.910991  0.666667\n",
      "10  0.914634  0.916667  0.210526  0.210526  0.476864  0.800000\n",
      "11  0.621951  0.791667  0.328947  0.263158  0.352609  0.733333\n",
      "12  0.609756  0.736111  0.368421  0.368421  0.116965  0.900000\n",
      "13  0.185366  0.138889  0.526316  0.631579  0.026991  0.433333\n",
      "14  0.902439  0.875000  0.000000  0.105263  0.392120  0.933333\n",
      "15  0.000000  0.000000  1.000000  0.684211  0.006597  0.066667\n",
      "16  0.865854  0.861111  0.078947  0.315789  0.505659  0.866667\n",
      "17  0.170732  0.291667  0.697368  1.000000  0.000000  0.000000\n",
      "18  0.573171  0.930556  0.342105  0.578947  0.117293  0.366667\n",
      "19  0.695122  0.652778  0.473684  0.368421  0.540832  0.666667\n",
      "20  0.426829  0.513889  0.710526  0.526316  0.123307  0.600000\n",
      "21  0.682927  0.722222  0.289474  0.263158  0.343515  0.766667\n",
      "22  0.536585  0.680556  0.394737  0.421053  0.084653  0.833333\n",
      "23  0.195122  0.166667  0.723684  0.473684  0.057462  0.133333\n",
      "24  0.902439  0.930556  0.065789  0.263158  0.634397  0.966667\n"
     ]
    }
   ],
   "source": [
    "df=pd.read_csv(\"universities_std.csv\")\n",
    "print(df)\n",
    "df.drop(\"Unnamed: 0\",axis=1,inplace=True)\n",
    "print(df)"
   ]
  },
  {
   "cell_type": "code",
   "execution_count": 5,
   "id": "5317afee-e8b9-4979-ba1f-d9a9eaf7df40",
   "metadata": {},
   "outputs": [
    {
     "name": "stdout",
     "output_type": "stream",
     "text": [
      "[9.98823519663856, 4.12345244239718, 2.955684328573544, 2.2409448674160504, 1.6781326840746351, 1.4692400505253722, 1.2418108602165356, 1.0291133191249704, 0.8699381439330709, 0.7170697045095754]\n",
      "[6 2 9 0 6 3 3 6 3 7 3 0 6 1 3 1 3 4 8 0 5 0 6 1 3]\n",
      "[[0.68597561 0.70833333 0.30592105 0.30263158 0.41314629 0.71666667]\n",
      " [0.12682927 0.10185185 0.75       0.59649123 0.03034997 0.21111111]\n",
      " [1.         1.         0.14473684 0.         1.         0.46666667]\n",
      " [0.87456446 0.88095238 0.09774436 0.2406015  0.48789238 0.91904762]\n",
      " [0.17073171 0.29166667 0.69736842 1.         0.         0.        ]\n",
      " [0.42682927 0.51388889 0.71052632 0.52631579 0.12330739 0.6       ]\n",
      " [0.63414634 0.73333333 0.25       0.36842105 0.18095169 0.84666667]\n",
      " [0.73170732 0.65277778 0.39473684 0.05263158 0.91099123 0.66666667]\n",
      " [0.57317073 0.93055556 0.34210526 0.57894737 0.11729329 0.36666667]\n",
      " [0.62195122 0.47222222 0.59210526 0.15789474 0.29746132 0.16666667]]\n"
     ]
    },
    {
     "name": "stderr",
     "output_type": "stream",
     "text": [
      "/home/sunbeam/.local/lib/python3.10/site-packages/sklearn/cluster/_kmeans.py:1416: FutureWarning: The default value of `n_init` will change from 10 to 'auto' in 1.4. Set the value of `n_init` explicitly to suppress the warning\n",
      "  super()._check_params_vs_input(X, default_n_init=10)\n",
      "/home/sunbeam/.local/lib/python3.10/site-packages/sklearn/cluster/_kmeans.py:1416: FutureWarning: The default value of `n_init` will change from 10 to 'auto' in 1.4. Set the value of `n_init` explicitly to suppress the warning\n",
      "  super()._check_params_vs_input(X, default_n_init=10)\n",
      "/home/sunbeam/.local/lib/python3.10/site-packages/sklearn/cluster/_kmeans.py:1416: FutureWarning: The default value of `n_init` will change from 10 to 'auto' in 1.4. Set the value of `n_init` explicitly to suppress the warning\n",
      "  super()._check_params_vs_input(X, default_n_init=10)\n",
      "/home/sunbeam/.local/lib/python3.10/site-packages/sklearn/cluster/_kmeans.py:1416: FutureWarning: The default value of `n_init` will change from 10 to 'auto' in 1.4. Set the value of `n_init` explicitly to suppress the warning\n",
      "  super()._check_params_vs_input(X, default_n_init=10)\n",
      "/home/sunbeam/.local/lib/python3.10/site-packages/sklearn/cluster/_kmeans.py:1416: FutureWarning: The default value of `n_init` will change from 10 to 'auto' in 1.4. Set the value of `n_init` explicitly to suppress the warning\n",
      "  super()._check_params_vs_input(X, default_n_init=10)\n",
      "/home/sunbeam/.local/lib/python3.10/site-packages/sklearn/cluster/_kmeans.py:1416: FutureWarning: The default value of `n_init` will change from 10 to 'auto' in 1.4. Set the value of `n_init` explicitly to suppress the warning\n",
      "  super()._check_params_vs_input(X, default_n_init=10)\n",
      "/home/sunbeam/.local/lib/python3.10/site-packages/sklearn/cluster/_kmeans.py:1416: FutureWarning: The default value of `n_init` will change from 10 to 'auto' in 1.4. Set the value of `n_init` explicitly to suppress the warning\n",
      "  super()._check_params_vs_input(X, default_n_init=10)\n",
      "/home/sunbeam/.local/lib/python3.10/site-packages/sklearn/cluster/_kmeans.py:1416: FutureWarning: The default value of `n_init` will change from 10 to 'auto' in 1.4. Set the value of `n_init` explicitly to suppress the warning\n",
      "  super()._check_params_vs_input(X, default_n_init=10)\n",
      "/home/sunbeam/.local/lib/python3.10/site-packages/sklearn/cluster/_kmeans.py:1416: FutureWarning: The default value of `n_init` will change from 10 to 'auto' in 1.4. Set the value of `n_init` explicitly to suppress the warning\n",
      "  super()._check_params_vs_input(X, default_n_init=10)\n",
      "/home/sunbeam/.local/lib/python3.10/site-packages/sklearn/cluster/_kmeans.py:1416: FutureWarning: The default value of `n_init` will change from 10 to 'auto' in 1.4. Set the value of `n_init` explicitly to suppress the warning\n",
      "  super()._check_params_vs_input(X, default_n_init=10)\n"
     ]
    },
    {
     "data": {
      "text/plain": [
       "[<matplotlib.lines.Line2D at 0x7f8fa8927100>]"
      ]
     },
     "execution_count": 5,
     "metadata": {},
     "output_type": "execute_result"
    },
    {
     "data": {
      "image/png": "[encoded data removed]",
      "text/plain": [
       "<Figure size 640x480 with 1 Axes>"
      ]
     },
     "metadata": {},
     "output_type": "display_data"
    }
   ],
   "source": [
    "wss=[]\n",
    "for k in range(1,11):\n",
    "    kmeans_model=KMeans(n_clusters=k,random_state=12345)\n",
    "    kmeans_model.fit(df)\n",
    "    wss.append(kmeans_model.inertia_)\n",
    "print(wss)\n",
    "print(kmeans_model.labels_)\n",
    "\n",
    "print(kmeans_model.cluster_centers_)\n",
    "x=np.arange(1,11)\n",
    "plt.plot(x,wss)\n"
   ]
  },
  {
   "cell_type": "code",
   "execution_count": 6,
   "id": "91fc7eb4-0024-4dd3-b599-0592f231651e",
   "metadata": {},
   "outputs": [
    {
     "name": "stdout",
     "output_type": "stream",
     "text": [
      "[3 0 1 1 1 3 3 1 3 0 3 1 1 2 3 2 3 2 1 1 1 1 1 2 3]\n",
      "[[0.86585366 0.82638889 0.26973684 0.02631579 0.95549562 0.56666667]\n",
      " [0.61751663 0.68813131 0.36483254 0.35885167 0.25820561 0.66666667]\n",
      " [0.13780488 0.14930556 0.73684211 0.69736842 0.02276248 0.15833333]\n",
      " [0.85823171 0.87673611 0.09868421 0.25657895 0.45879882 0.91666667]]\n"
     ]
    },
    {
     "name": "stderr",
     "output_type": "stream",
     "text": [
      "/home/sunbeam/.local/lib/python3.10/site-packages/sklearn/cluster/_kmeans.py:1416: FutureWarning: The default value of `n_init` will change from 10 to 'auto' in 1.4. Set the value of `n_init` explicitly to suppress the warning\n",
      "  super()._check_params_vs_input(X, default_n_init=10)\n"
     ]
    }
   ],
   "source": [
    "kmeans=KMeans(n_clusters=4,random_state=12345)\n",
    "kmeans.fit(df)\n",
    "print(kmeans.labels_)\n",
    "print(kmeans.cluster_centers_)"
   ]
  },
  {
   "cell_type": "code",
   "execution_count": null,
   "id": "ef3b8801-02d8-4c00-ab5a-2be30ba0d278",
   "metadata": {},
   "outputs": [],
   "source": []
  }
 ],
 "metadata": {
  "kernelspec": {
   "display_name": "Python 3 (ipykernel)",
   "language": "python",
   "name": "python3"
  },
  "language_info": {
   "codemirror_mode": {
    "name": "ipython",
    "version": 3
   },
   "file_extension": ".py",
   "mimetype": "text/x-python",
   "name": "python",
   "nbconvert_exporter": "python",
   "pygments_lexer": "ipython3",
   "version": "3.10.12"
  }
 },
 "nbformat": 4,
 "nbformat_minor": 5
}
