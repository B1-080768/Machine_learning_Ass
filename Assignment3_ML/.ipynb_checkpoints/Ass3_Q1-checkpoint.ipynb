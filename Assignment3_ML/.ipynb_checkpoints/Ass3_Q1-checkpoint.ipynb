{
 "cells": [
  {
   "cell_type": "raw",
   "id": "7a245465-b1c3-484f-a1bd-960f954967e1",
   "metadata": {},
   "source": [
    "\n",
    "# Perform K-Means Clustering for the airlines data to obtain optimum number of clusters. \n",
    "# Draw the inferences from the clusters obtained.\n",
    "\n",
    "# Data Description:\n",
    " \n",
    "# The file East_std  contains information on passengers who belong to an airline’s frequent flier program. For each passenger the data include information on their mileage history and on different ways they accrued or spent miles in the last year. The goal is to try to identify clusters of passengers that have similar characteristics for the purpose of targeting different segments for different types of mileage offers.\n",
    "\n",
    "# Balance--Number of miles eligible for award travel\n",
    "\n",
    "# Qual_mile--Number of miles counted as qualifying for Topflight status\n",
    "\n",
    "# cc1_miles -- Number of miles earned with freq. flyer credit card in the past 12 months:\n",
    "# cc2_miles -- Number of miles earned with Rewards credit card in the past 12 months:\n",
    "# cc3_miles -- Number of miles earned with Small Business credit card in the past 12 months:\n",
    "\n",
    "# Bonus_miles--Number of miles earned from non-flight bonus transactions in the past 12 months\n",
    "\n",
    "# Bonus_trans--Number of non-flight bonus transactions in the past 12 months\n",
    "\n",
    "# Flight_miles_12mo--Number of flight miles in the past 12 months\n",
    "\n",
    "# Flight_trans_12--Number of flight transactions in the past 12 months\n",
    "\n",
    "# Days_since_enrolled--Number of days since enrolled in flier program\n",
    "\n",
    "# Award--whether that person had award flight (free flight) or not"
   ]
  },
  {
   "cell_type": "code",
   "execution_count": 11,
   "id": "a9b4fcb0-728c-416c-93fd-4b6828944a1d",
   "metadata": {},
   "outputs": [
    {
     "name": "stdout",
     "output_type": "stream",
     "text": [
      "      Unnamed: 0   Balance  Qual_miles  cc1_miles  cc2_miles  cc3_miles  \\\n",
      "0              0  0.016508         0.0       0.00        0.0        0.0   \n",
      "1              1  0.011288         0.0       0.00        0.0        0.0   \n",
      "2              2  0.024257         0.0       0.00        0.0        0.0   \n",
      "3              3  0.008667         0.0       0.00        0.0        0.0   \n",
      "4              4  0.057338         0.0       0.75        0.0        0.0   \n",
      "...          ...       ...         ...        ...        ...        ...   \n",
      "3994        3994  0.010837         0.0       0.00        0.0        0.0   \n",
      "3995        3995  0.037766         0.0       0.00        0.0        0.0   \n",
      "3996        3996  0.043169         0.0       0.50        0.0        0.0   \n",
      "3997        3997  0.032202         0.0       0.00        0.0        0.0   \n",
      "3998        3998  0.001769         0.0       0.00        0.0        0.0   \n",
      "\n",
      "      Bonus_miles  Bonus_trans  Flight_miles_12mo  Flight_trans_12  \\\n",
      "0        0.000660     0.011628           0.000000         0.000000   \n",
      "1        0.000815     0.023256           0.000000         0.000000   \n",
      "2        0.015636     0.046512           0.000000         0.000000   \n",
      "3        0.001896     0.011628           0.000000         0.000000   \n",
      "4        0.164211     0.302326           0.067398         0.075472   \n",
      "...           ...          ...                ...              ...   \n",
      "3994     0.032330     0.046512           0.006490         0.018868   \n",
      "3995     0.003720     0.058140           0.000000         0.000000   \n",
      "3996     0.096505     0.093023           0.000000         0.000000   \n",
      "3997     0.001896     0.011628           0.016225         0.018868   \n",
      "3998     0.000000     0.000000           0.000000         0.000000   \n",
      "\n",
      "      Days_since_enroll  Award?  \n",
      "0              0.843742     0.0  \n",
      "1              0.839884     0.0  \n",
      "2              0.847842     0.0  \n",
      "3              0.837955     0.0  \n",
      "4              0.835905     1.0  \n",
      "...                 ...     ...  \n",
      "3994           0.168917     1.0  \n",
      "3995           0.167953     1.0  \n",
      "3996           0.168797     1.0  \n",
      "3997           0.168676     0.0  \n",
      "3998           0.168314     0.0  \n",
      "\n",
      "[3999 rows x 12 columns]\n"
     ]
    }
   ],
   "source": [
    "import pandas as pd\n",
    "import numpy as np\n",
    "import matplotlib.pyplot as plt\n",
    "\n",
    "df = pd.read_csv(\"East_std.csv\")\n",
    "print(df)\n"
   ]
  },
  {
   "cell_type": "code",
   "execution_count": 12,
   "id": "5f511c30-cd05-4989-8dd2-92afe85e3139",
   "metadata": {},
   "outputs": [
    {
     "name": "stdout",
     "output_type": "stream",
     "text": [
      "       Balance  Qual_miles  cc1_miles  cc2_miles  cc3_miles  Bonus_miles  \\\n",
      "0     0.016508         0.0       0.00        0.0        0.0     0.000660   \n",
      "1     0.011288         0.0       0.00        0.0        0.0     0.000815   \n",
      "2     0.024257         0.0       0.00        0.0        0.0     0.015636   \n",
      "3     0.008667         0.0       0.00        0.0        0.0     0.001896   \n",
      "4     0.057338         0.0       0.75        0.0        0.0     0.164211   \n",
      "...        ...         ...        ...        ...        ...          ...   \n",
      "3994  0.010837         0.0       0.00        0.0        0.0     0.032330   \n",
      "3995  0.037766         0.0       0.00        0.0        0.0     0.003720   \n",
      "3996  0.043169         0.0       0.50        0.0        0.0     0.096505   \n",
      "3997  0.032202         0.0       0.00        0.0        0.0     0.001896   \n",
      "3998  0.001769         0.0       0.00        0.0        0.0     0.000000   \n",
      "\n",
      "      Bonus_trans  Flight_miles_12mo  Flight_trans_12  Days_since_enroll  \\\n",
      "0        0.011628           0.000000         0.000000           0.843742   \n",
      "1        0.023256           0.000000         0.000000           0.839884   \n",
      "2        0.046512           0.000000         0.000000           0.847842   \n",
      "3        0.011628           0.000000         0.000000           0.837955   \n",
      "4        0.302326           0.067398         0.075472           0.835905   \n",
      "...           ...                ...              ...                ...   \n",
      "3994     0.046512           0.006490         0.018868           0.168917   \n",
      "3995     0.058140           0.000000         0.000000           0.167953   \n",
      "3996     0.093023           0.000000         0.000000           0.168797   \n",
      "3997     0.011628           0.016225         0.018868           0.168676   \n",
      "3998     0.000000           0.000000         0.000000           0.168314   \n",
      "\n",
      "      Award?  \n",
      "0        0.0  \n",
      "1        0.0  \n",
      "2        0.0  \n",
      "3        0.0  \n",
      "4        1.0  \n",
      "...      ...  \n",
      "3994     1.0  \n",
      "3995     1.0  \n",
      "3996     1.0  \n",
      "3997     0.0  \n",
      "3998     0.0  \n",
      "\n",
      "[3999 rows x 11 columns]\n"
     ]
    }
   ],
   "source": [
    "# df.rename({\"Unnamed: 0\":'a'},axis=1,inplace=True)\n",
    "# df.drop(\"a\",axis=1,inplace=True)\n",
    "df.drop(\"Unnamed: 0\",axis=1,inplace=True)\n",
    "print(df)\n"
   ]
  },
  {
   "cell_type": "code",
   "execution_count": 13,
   "id": "24bf2308-35e6-4c18-969c-0db3729835f5",
   "metadata": {},
   "outputs": [],
   "source": [
    "from sklearn.cluster import KMeans\n"
   ]
  },
  {
   "cell_type": "code",
   "execution_count": 14,
   "id": "c41d2863-f457-41a8-8e0a-1770b181fe94",
   "metadata": {},
   "outputs": [
    {
     "name": "stderr",
     "output_type": "stream",
     "text": [
      "/home/user/.local/lib/python3.10/site-packages/sklearn/cluster/_kmeans.py:1416: FutureWarning: The default value of `n_init` will change from 10 to 'auto' in 1.4. Set the value of `n_init` explicitly to suppress the warning\n",
      "  super()._check_params_vs_input(X, default_n_init=10)\n",
      "/home/user/.local/lib/python3.10/site-packages/sklearn/cluster/_kmeans.py:1416: FutureWarning: The default value of `n_init` will change from 10 to 'auto' in 1.4. Set the value of `n_init` explicitly to suppress the warning\n",
      "  super()._check_params_vs_input(X, default_n_init=10)\n",
      "/home/user/.local/lib/python3.10/site-packages/sklearn/cluster/_kmeans.py:1416: FutureWarning: The default value of `n_init` will change from 10 to 'auto' in 1.4. Set the value of `n_init` explicitly to suppress the warning\n",
      "  super()._check_params_vs_input(X, default_n_init=10)\n",
      "/home/user/.local/lib/python3.10/site-packages/sklearn/cluster/_kmeans.py:1416: FutureWarning: The default value of `n_init` will change from 10 to 'auto' in 1.4. Set the value of `n_init` explicitly to suppress the warning\n",
      "  super()._check_params_vs_input(X, default_n_init=10)\n",
      "/home/user/.local/lib/python3.10/site-packages/sklearn/cluster/_kmeans.py:1416: FutureWarning: The default value of `n_init` will change from 10 to 'auto' in 1.4. Set the value of `n_init` explicitly to suppress the warning\n",
      "  super()._check_params_vs_input(X, default_n_init=10)\n",
      "/home/user/.local/lib/python3.10/site-packages/sklearn/cluster/_kmeans.py:1416: FutureWarning: The default value of `n_init` will change from 10 to 'auto' in 1.4. Set the value of `n_init` explicitly to suppress the warning\n",
      "  super()._check_params_vs_input(X, default_n_init=10)\n",
      "/home/user/.local/lib/python3.10/site-packages/sklearn/cluster/_kmeans.py:1416: FutureWarning: The default value of `n_init` will change from 10 to 'auto' in 1.4. Set the value of `n_init` explicitly to suppress the warning\n",
      "  super()._check_params_vs_input(X, default_n_init=10)\n",
      "/home/user/.local/lib/python3.10/site-packages/sklearn/cluster/_kmeans.py:1416: FutureWarning: The default value of `n_init` will change from 10 to 'auto' in 1.4. Set the value of `n_init` explicitly to suppress the warning\n",
      "  super()._check_params_vs_input(X, default_n_init=10)\n",
      "/home/user/.local/lib/python3.10/site-packages/sklearn/cluster/_kmeans.py:1416: FutureWarning: The default value of `n_init` will change from 10 to 'auto' in 1.4. Set the value of `n_init` explicitly to suppress the warning\n",
      "  super()._check_params_vs_input(X, default_n_init=10)\n",
      "/home/user/.local/lib/python3.10/site-packages/sklearn/cluster/_kmeans.py:1416: FutureWarning: The default value of `n_init` will change from 10 to 'auto' in 1.4. Set the value of `n_init` explicitly to suppress the warning\n",
      "  super()._check_params_vs_input(X, default_n_init=10)\n"
     ]
    },
    {
     "name": "stdout",
     "output_type": "stream",
     "text": [
      "[1830.793212858411, 823.6756984125207, 625.1684881570719, 436.7088576193261, 348.9434283901317, 315.2973546462256, 287.8944495025625, 263.2599443943468, 243.91658110765155, 226.1234890482797]\n"
     ]
    }
   ],
   "source": [
    "wss=[]\n",
    "for k in range(1,11):\n",
    "    kmeans_model=KMeans(n_clusters=k,random_state=12345)\n",
    "    kmeans_model.fit(df)\n",
    "    \n",
    "    wss.append(kmeans_model.inertia_)\n",
    "print(wss)\n",
    "    "
   ]
  },
  {
   "cell_type": "code",
   "execution_count": 15,
   "id": "849478ae-fa69-4418-b7db-3caf7e574ce7",
   "metadata": {},
   "outputs": [
    {
     "data": {
      "text/plain": [
       "[<matplotlib.lines.Line2D at 0x7f60ea4736d0>]"
      ]
     },
     "execution_count": 15,
     "metadata": {},
     "output_type": "execute_result"
    },
    {
     "data": {
      "image/png": "[encoded data removed]",
      "text/plain": [
       "<Figure size 640x480 with 1 Axes>"
      ]
     },
     "metadata": {},
     "output_type": "display_data"
    }
   ],
   "source": [
    "x=np.arange(1,11)\n",
    "plt.plot(x,wss)\n"
   ]
  },
  {
   "cell_type": "code",
   "execution_count": 16,
   "id": "652cace6-1ff1-40e4-af12-1aea7029217d",
   "metadata": {},
   "outputs": [
    {
     "name": "stderr",
     "output_type": "stream",
     "text": [
      "/home/user/.local/lib/python3.10/site-packages/sklearn/cluster/_kmeans.py:1416: FutureWarning: The default value of `n_init` will change from 10 to 'auto' in 1.4. Set the value of `n_init` explicitly to suppress the warning\n",
      "  super()._check_params_vs_input(X, default_n_init=10)\n"
     ]
    },
    {
     "data": {
      "text/plain": [
       "array([4, 4, 4, ..., 3, 0, 0], dtype=int32)"
      ]
     },
     "execution_count": 16,
     "metadata": {},
     "output_type": "execute_result"
    }
   ],
   "source": [
    "kmeans=KMeans(n_clusters=5,random_state=12345)\n",
    "kmeans.fit(df)\n",
    "kmeans.labels_"
   ]
  },
  {
   "cell_type": "code",
   "execution_count": 17,
   "id": "a8512dcd-04d2-4816-bbf3-509a3320543f",
   "metadata": {},
   "outputs": [
    {
     "data": {
      "text/plain": [
       "array([[ 1.94103660e-02,  8.43565288e-03,  1.76669894e-02,\n",
       "         8.22846079e-03,  1.69409487e-03,  1.23106384e-02,\n",
       "         7.18386276e-02,  6.90024091e-03,  1.13792033e-02,\n",
       "         2.40189960e-01,  3.99680289e-15],\n",
       "       [ 4.89953609e-02,  2.60542873e-02,  3.90044577e-02,\n",
       "         1.63447251e-02,  2.22882615e-03,  3.35642727e-02,\n",
       "         1.21825219e-01,  3.34267751e-02,  5.94073285e-02,\n",
       "         5.22892182e-01,  1.00000000e+00],\n",
       "       [ 6.93891884e-02,  6.59020789e-03,  6.46035599e-01,\n",
       "         8.09061489e-04,  5.66343042e-03,  1.19022293e-01,\n",
       "         2.00383834e-01,  7.27197078e-03,  1.18458814e-02,\n",
       "         5.32620376e-01, -4.44089210e-16],\n",
       "       [ 6.35352962e-02,  1.77912301e-02,  7.28960396e-01,\n",
       "         6.18811881e-04,  6.49752475e-03,  1.72970238e-01,\n",
       "         2.34903868e-01,  2.31602349e-02,  4.04212591e-02,\n",
       "         5.86139300e-01,  1.00000000e+00],\n",
       "       [ 2.92977490e-02,  8.07381776e-03,  3.05651672e-02,\n",
       "         9.80392157e-03,  2.88350634e-04,  1.31422452e-02,\n",
       "         8.03358279e-02,  7.92145051e-03,  1.37537812e-02,\n",
       "         6.71326724e-01,  1.11022302e-15]])"
      ]
     },
     "execution_count": 17,
     "metadata": {},
     "output_type": "execute_result"
    }
   ],
   "source": [
    "kmeans.cluster_centers_"
   ]
  },
  {
   "cell_type": "code",
   "execution_count": null,
   "id": "74630bb9-7f92-4445-9699-608a1d73a0ba",
   "metadata": {},
   "outputs": [],
   "source": []
  }
 ],
 "metadata": {
  "kernelspec": {
   "display_name": "Python 3 (ipykernel)",
   "language": "python",
   "name": "python3"
  },
  "language_info": {
   "codemirror_mode": {
    "name": "ipython",
    "version": 3
   },
   "file_extension": ".py",
   "mimetype": "text/x-python",
   "name": "python",
   "nbconvert_exporter": "python",
   "pygments_lexer": "ipython3",
   "version": "3.10.12"
  }
 },
 "nbformat": 4,
 "nbformat_minor": 5
}
