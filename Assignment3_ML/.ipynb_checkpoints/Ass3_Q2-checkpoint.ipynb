{
 "cells": [
  {
   "cell_type": "raw",
   "id": "be0d6aca-2633-4cfe-ab72-67148d2d2dbb",
   "metadata": {},
   "source": [
    "Perform K-Means Clustering for the crime_std data and identify the number of clusters formed and draw inferences.\n",
    "Data Description:\n",
    "Murder -- Muder rates in different places of United States\n",
    "Assualt- Assualt rate in different places of United States\n",
    "UrbanPop - urban population in different places of United States Rape - Rape rate in different places of United States\n"
   ]
  },
  {
   "cell_type": "code",
   "execution_count": 1,
   "id": "1ebfeff9-e587-42fb-979f-68133bd72202",
   "metadata": {},
   "outputs": [],
   "source": [
    "import pandas as pd \n",
    "import numpy as np\n",
    "import matplotlib.pyplot as plt\n",
    "from sklearn.cluster import KMeans\n"
   ]
  },
  {
   "cell_type": "code",
   "execution_count": 2,
   "id": "473c1d53-fab8-4882-b20e-e4cd8fd2a19d",
   "metadata": {},
   "outputs": [
    {
     "name": "stdout",
     "output_type": "stream",
     "text": [
      "        Unnamed: 0  Murder  Assault  UrbanPop  Rape\n",
      "0          Alabama    13.2      236        58  21.2\n",
      "1           Alaska    10.0      263        48  44.5\n",
      "2          Arizona     8.1      294        80  31.0\n",
      "3         Arkansas     8.8      190        50  19.5\n",
      "4       California     9.0      276        91  40.6\n",
      "5         Colorado     7.9      204        78  38.7\n",
      "6      Connecticut     3.3      110        77  11.1\n",
      "7         Delaware     5.9      238        72  15.8\n",
      "8          Florida    15.4      335        80  31.9\n",
      "9          Georgia    17.4      211        60  25.8\n",
      "10          Hawaii     5.3       46        83  20.2\n",
      "11           Idaho     2.6      120        54  14.2\n",
      "12        Illinois    10.4      249        83  24.0\n",
      "13         Indiana     7.2      113        65  21.0\n",
      "14            Iowa     2.2       56        57  11.3\n",
      "15          Kansas     6.0      115        66  18.0\n",
      "16        Kentucky     9.7      109        52  16.3\n",
      "17       Louisiana    15.4      249        66  22.2\n",
      "18           Maine     2.1       83        51   7.8\n",
      "19        Maryland    11.3      300        67  27.8\n",
      "20   Massachusetts     4.4      149        85  16.3\n",
      "21        Michigan    12.1      255        74  35.1\n",
      "22       Minnesota     2.7       72        66  14.9\n",
      "23     Mississippi    16.1      259        44  17.1\n",
      "24        Missouri     9.0      178        70  28.2\n",
      "25         Montana     6.0      109        53  16.4\n",
      "26        Nebraska     4.3      102        62  16.5\n",
      "27          Nevada    12.2      252        81  46.0\n",
      "28   New Hampshire     2.1       57        56   9.5\n",
      "29      New Jersey     7.4      159        89  18.8\n",
      "30      New Mexico    11.4      285        70  32.1\n",
      "31        New York    11.1      254        86  26.1\n",
      "32  North Carolina    13.0      337        45  16.1\n",
      "33    North Dakota     0.8       45        44   7.3\n",
      "34            Ohio     7.3      120        75  21.4\n",
      "35        Oklahoma     6.6      151        68  20.0\n",
      "36          Oregon     4.9      159        67  29.3\n",
      "37    Pennsylvania     6.3      106        72  14.9\n",
      "38    Rhode Island     3.4      174        87   8.3\n",
      "39  South Carolina    14.4      279        48  22.5\n",
      "40    South Dakota     3.8       86        45  12.8\n",
      "41       Tennessee    13.2      188        59  26.9\n",
      "42           Texas    12.7      201        80  25.5\n",
      "43            Utah     3.2      120        80  22.9\n",
      "44         Vermont     2.2       48        32  11.2\n",
      "45        Virginia     8.5      156        63  20.7\n",
      "46      Washington     4.0      145        73  26.2\n",
      "47   West Virginia     5.7       81        39   9.3\n",
      "48       Wisconsin     2.6       53        66  10.8\n",
      "49         Wyoming     6.8      161        60  15.6\n",
      "    Murder  Assault  UrbanPop  Rape\n",
      "0     13.2      236        58  21.2\n",
      "1     10.0      263        48  44.5\n",
      "2      8.1      294        80  31.0\n",
      "3      8.8      190        50  19.5\n",
      "4      9.0      276        91  40.6\n",
      "5      7.9      204        78  38.7\n",
      "6      3.3      110        77  11.1\n",
      "7      5.9      238        72  15.8\n",
      "8     15.4      335        80  31.9\n",
      "9     17.4      211        60  25.8\n",
      "10     5.3       46        83  20.2\n",
      "11     2.6      120        54  14.2\n",
      "12    10.4      249        83  24.0\n",
      "13     7.2      113        65  21.0\n",
      "14     2.2       56        57  11.3\n",
      "15     6.0      115        66  18.0\n",
      "16     9.7      109        52  16.3\n",
      "17    15.4      249        66  22.2\n",
      "18     2.1       83        51   7.8\n",
      "19    11.3      300        67  27.8\n",
      "20     4.4      149        85  16.3\n",
      "21    12.1      255        74  35.1\n",
      "22     2.7       72        66  14.9\n",
      "23    16.1      259        44  17.1\n",
      "24     9.0      178        70  28.2\n",
      "25     6.0      109        53  16.4\n",
      "26     4.3      102        62  16.5\n",
      "27    12.2      252        81  46.0\n",
      "28     2.1       57        56   9.5\n",
      "29     7.4      159        89  18.8\n",
      "30    11.4      285        70  32.1\n",
      "31    11.1      254        86  26.1\n",
      "32    13.0      337        45  16.1\n",
      "33     0.8       45        44   7.3\n",
      "34     7.3      120        75  21.4\n",
      "35     6.6      151        68  20.0\n",
      "36     4.9      159        67  29.3\n",
      "37     6.3      106        72  14.9\n",
      "38     3.4      174        87   8.3\n",
      "39    14.4      279        48  22.5\n",
      "40     3.8       86        45  12.8\n",
      "41    13.2      188        59  26.9\n",
      "42    12.7      201        80  25.5\n",
      "43     3.2      120        80  22.9\n",
      "44     2.2       48        32  11.2\n",
      "45     8.5      156        63  20.7\n",
      "46     4.0      145        73  26.2\n",
      "47     5.7       81        39   9.3\n",
      "48     2.6       53        66  10.8\n",
      "49     6.8      161        60  15.6\n"
     ]
    }
   ],
   "source": [
    "df=pd.read_csv(\"crime_data.csv\")\n",
    "print(df)\n",
    "df.drop(\"Unnamed: 0\",axis=1,inplace=True)\n",
    "print(df)"
   ]
  },
  {
   "cell_type": "code",
   "execution_count": 3,
   "id": "9deb2b97-4953-4f3d-8976-e553b8e54cee",
   "metadata": {},
   "outputs": [
    {
     "name": "stdout",
     "output_type": "stream",
     "text": [
      "[355807.8216, 96399.02814449917, 47964.26535714286, 34728.629357142854, 24417.023523809523, 18957.82888888889, 15606.79775, 13329.361976190476, 11774.295595238094, 10223.840476190475]\n",
      "[4 6 7 0 7 9 1 4 2 9 8 1 4 1 8 1 1 4 3 7 5 4 3 6 0 1 1 4 8 5 7 4 2 8 1 5 5\n",
      " 1 5 6 3 0 9 1 8 5 5 3 8 5]\n",
      "[[ 10.33333333 185.33333333  59.66666667  24.86666667]\n",
      " [  5.59       112.4         65.6         17.27      ]\n",
      " [ 14.2        336.          62.5         24.        ]\n",
      " [  3.575       80.5         50.25        11.2       ]\n",
      " [ 11.47142857 247.57142857  74.28571429  27.2       ]\n",
      " [  5.75       156.75        74.          19.4       ]\n",
      " [ 13.5        267.          46.66666667  28.03333333]\n",
      " [  9.95       288.75        77.          32.875     ]\n",
      " [  2.53333333  50.83333333  56.33333333  11.71666667]\n",
      " [ 12.66666667 205.33333333  72.66666667  30.        ]]\n"
     ]
    },
    {
     "name": "stderr",
     "output_type": "stream",
     "text": [
      "/home/user/.local/lib/python3.10/site-packages/sklearn/cluster/_kmeans.py:1416: FutureWarning: The default value of `n_init` will change from 10 to 'auto' in 1.4. Set the value of `n_init` explicitly to suppress the warning\n",
      "  super()._check_params_vs_input(X, default_n_init=10)\n",
      "/home/user/.local/lib/python3.10/site-packages/sklearn/cluster/_kmeans.py:1416: FutureWarning: The default value of `n_init` will change from 10 to 'auto' in 1.4. Set the value of `n_init` explicitly to suppress the warning\n",
      "  super()._check_params_vs_input(X, default_n_init=10)\n",
      "/home/user/.local/lib/python3.10/site-packages/sklearn/cluster/_kmeans.py:1416: FutureWarning: The default value of `n_init` will change from 10 to 'auto' in 1.4. Set the value of `n_init` explicitly to suppress the warning\n",
      "  super()._check_params_vs_input(X, default_n_init=10)\n",
      "/home/user/.local/lib/python3.10/site-packages/sklearn/cluster/_kmeans.py:1416: FutureWarning: The default value of `n_init` will change from 10 to 'auto' in 1.4. Set the value of `n_init` explicitly to suppress the warning\n",
      "  super()._check_params_vs_input(X, default_n_init=10)\n",
      "/home/user/.local/lib/python3.10/site-packages/sklearn/cluster/_kmeans.py:1416: FutureWarning: The default value of `n_init` will change from 10 to 'auto' in 1.4. Set the value of `n_init` explicitly to suppress the warning\n",
      "  super()._check_params_vs_input(X, default_n_init=10)\n",
      "/home/user/.local/lib/python3.10/site-packages/sklearn/cluster/_kmeans.py:1416: FutureWarning: The default value of `n_init` will change from 10 to 'auto' in 1.4. Set the value of `n_init` explicitly to suppress the warning\n",
      "  super()._check_params_vs_input(X, default_n_init=10)\n",
      "/home/user/.local/lib/python3.10/site-packages/sklearn/cluster/_kmeans.py:1416: FutureWarning: The default value of `n_init` will change from 10 to 'auto' in 1.4. Set the value of `n_init` explicitly to suppress the warning\n",
      "  super()._check_params_vs_input(X, default_n_init=10)\n",
      "/home/user/.local/lib/python3.10/site-packages/sklearn/cluster/_kmeans.py:1416: FutureWarning: The default value of `n_init` will change from 10 to 'auto' in 1.4. Set the value of `n_init` explicitly to suppress the warning\n",
      "  super()._check_params_vs_input(X, default_n_init=10)\n",
      "/home/user/.local/lib/python3.10/site-packages/sklearn/cluster/_kmeans.py:1416: FutureWarning: The default value of `n_init` will change from 10 to 'auto' in 1.4. Set the value of `n_init` explicitly to suppress the warning\n",
      "  super()._check_params_vs_input(X, default_n_init=10)\n",
      "/home/user/.local/lib/python3.10/site-packages/sklearn/cluster/_kmeans.py:1416: FutureWarning: The default value of `n_init` will change from 10 to 'auto' in 1.4. Set the value of `n_init` explicitly to suppress the warning\n",
      "  super()._check_params_vs_input(X, default_n_init=10)\n"
     ]
    },
    {
     "data": {
      "text/plain": [
       "[<matplotlib.lines.Line2D at 0x7f9cad690400>]"
      ]
     },
     "execution_count": 3,
     "metadata": {},
     "output_type": "execute_result"
    },
    {
     "data": {
      "image/png": "[encoded data removed]",
      "text/plain": [
       "<Figure size 640x480 with 1 Axes>"
      ]
     },
     "metadata": {},
     "output_type": "display_data"
    }
   ],
   "source": [
    "wss=[]\n",
    "for k in range(1,11):\n",
    "    kmeans_model=KMeans(n_clusters=k,random_state=12345)\n",
    "    kmeans_model.fit(df)\n",
    "    wss.append(kmeans_model.inertia_)\n",
    "print(wss)\n",
    "print(kmeans_model.labels_)\n",
    "\n",
    "print(kmeans_model.cluster_centers_)\n",
    "x=np.arange(1,11)\n",
    "plt.plot(x,wss)\n"
   ]
  },
  {
   "cell_type": "code",
   "execution_count": 4,
   "id": "c1ec2f20-f96e-40ad-8c34-1ddc22e3c520",
   "metadata": {},
   "outputs": [
    {
     "name": "stdout",
     "output_type": "stream",
     "text": [
      "[1 1 1 2 1 2 0 1 1 2 3 0 1 0 3 0 0 1 3 1 2 1 3 1 2 0 0 1 3 2 1 1 1 3 0 2 2\n",
      " 0 2 1 3 2 2 0 3 2 2 3 3 2]\n",
      "[[  5.59       112.4         65.6         17.27      ]\n",
      " [ 11.8125     272.5625      68.3125      28.375     ]\n",
      " [  8.21428571 173.28571429  70.64285714  22.84285714]\n",
      " [  2.95        62.7         53.9         11.51      ]]\n"
     ]
    },
    {
     "name": "stderr",
     "output_type": "stream",
     "text": [
      "/home/user/.local/lib/python3.10/site-packages/sklearn/cluster/_kmeans.py:1416: FutureWarning: The default value of `n_init` will change from 10 to 'auto' in 1.4. Set the value of `n_init` explicitly to suppress the warning\n",
      "  super()._check_params_vs_input(X, default_n_init=10)\n"
     ]
    }
   ],
   "source": [
    "kmeans=KMeans(n_clusters=4,random_state=12345)\n",
    "kmeans.fit(df)\n",
    "print(kmeans.labels_)\n",
    "print(kmeans.cluster_centers_)"
   ]
  },
  {
   "cell_type": "code",
   "execution_count": null,
   "id": "7ace2653-2170-4db3-a462-1f150635b74f",
   "metadata": {},
   "outputs": [],
   "source": []
  }
 ],
 "metadata": {
  "kernelspec": {
   "display_name": "Python 3 (ipykernel)",
   "language": "python",
   "name": "python3"
  },
  "language_info": {
   "codemirror_mode": {
    "name": "ipython",
    "version": 3
   },
   "file_extension": ".py",
   "mimetype": "text/x-python",
   "name": "python",
   "nbconvert_exporter": "python",
   "pygments_lexer": "ipython3",
   "version": "3.10.12"
  }
 },
 "nbformat": 4,
 "nbformat_minor": 5
}
